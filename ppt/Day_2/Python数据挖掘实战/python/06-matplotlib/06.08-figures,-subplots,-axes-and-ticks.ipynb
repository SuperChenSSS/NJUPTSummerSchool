{
 "cells": [
  {
   "cell_type": "markdown",
   "metadata": {},
   "source": [
    "# figures, subplots, axes 和 ticks 对象"
   ]
  },
  {
   "cell_type": "markdown",
   "metadata": {},
   "source": [
    "## figures, axes 和 ticks 的关系"
   ]
  },
  {
   "cell_type": "markdown",
   "metadata": {},
   "source": [
    "这些对象的关系可以用下面的图来表示：\n",
    "\n",
    "示例图像：\n",
    "\n",
    "<img src=\"./artists_figure.png\" width = \"600\" height = \"400\" alt=\"图1\" align=left />"
   ]
  },
  {
   "cell_type": "markdown",
   "metadata": {},
   "source": [
    "具体结构：\n",
    "\n",
    "<img src=\"./artists_tree.png\" width = \"600\" height = \"400\" alt=\"图2\" align=left />"
   ]
  },
  {
   "cell_type": "markdown",
   "metadata": {},
   "source": [
    "## figure 对象"
   ]
  },
  {
   "cell_type": "markdown",
   "metadata": {},
   "source": [
    "`figure` 对象是最外层的绘图单位，默认是以 `1` 开始编号（**MATLAB** 风格，`Figure 1, Figure 2, ...`），可以用 `plt.figure()` 产生一幅图像，除了默认参数外，可以指定的参数有：\n",
    "\n",
    "- `num` - 编号\n",
    "- `figsize` - 图像大小\n",
    "- `dpi` - 分辨率\n",
    "- `facecolor` - 背景色\n",
    "- `edgecolor` - 边界颜色\n",
    "- `frameon` - 边框\n",
    "\n",
    "这些属性也可以通过 `Figure` 对象的 `set_xxx` 方法来改变。"
   ]
  },
  {
   "cell_type": "markdown",
   "metadata": {},
   "source": [
    "## subplot 和 axes 对象"
   ]
  },
  {
   "cell_type": "markdown",
   "metadata": {},
   "source": [
    "### subplot"
   ]
  },
  {
   "cell_type": "markdown",
   "metadata": {},
   "source": [
    "`subplot` 主要是使用网格排列子图："
   ]
  },
  {
   "cell_type": "code",
   "execution_count": 1,
   "metadata": {
    "collapsed": false
   },
   "outputs": [
    {
     "name": "stdout",
     "output_type": "stream",
     "text": [
      "Populating the interactive namespace from numpy and matplotlib\n"
     ]
    },
    {
     "data": {
      "image/png": "[encoded data removed]",
      "text/plain": [
       "<matplotlib.figure.Figure at 0x3bc9860>"
      ]
     },
     "metadata": {},
     "output_type": "display_data"
    }
   ],
   "source": [
    "%pylab inline\n",
    "\n",
    "subplot(2,1,1)\n",
    "xticks([]), yticks([])\n",
    "text(0.5,0.5, 'subplot(2,1,1)',ha='center',va='center',size=24,alpha=.5)\n",
    "\n",
    "subplot(2,1,2)\n",
    "xticks([]), yticks([])\n",
    "text(0.5,0.5, 'subplot(2,1,2)',ha='center',va='center',size=24,alpha=.5)\n",
    "\n",
    "show()"
   ]
  },
  {
   "cell_type": "markdown",
   "metadata": {},
   "source": [
    "更高级的可以用 `gridspec` 来绘图："
   ]
  },
  {
   "cell_type": "code",
   "execution_count": 2,
   "metadata": {
    "collapsed": false
   },
   "outputs": [
    {
     "data": {
      "image/png": "[encoded data removed]",
      "text/plain": [
       "<matplotlib.figure.Figure at 0xa0753c8>"
      ]
     },
     "metadata": {},
     "output_type": "display_data"
    }
   ],
   "source": [
    "import matplotlib.gridspec as gridspec\n",
    "\n",
    "G = gridspec.GridSpec(3, 3)\n",
    "\n",
    "axes_1 = subplot(G[0, :])\n",
    "xticks([]), yticks([])\n",
    "text(0.5,0.5, 'Axes 1',ha='center',va='center',size=24,alpha=.5)\n",
    "\n",
    "axes_2 = subplot(G[1,:-1])\n",
    "xticks([]), yticks([])\n",
    "text(0.5,0.5, 'Axes 2',ha='center',va='center',size=24,alpha=.5)\n",
    "\n",
    "axes_3 = subplot(G[1:, -1])\n",
    "xticks([]), yticks([])\n",
    "text(0.5,0.5, 'Axes 3',ha='center',va='center',size=24,alpha=.5)\n",
    "\n",
    "axes_4 = subplot(G[-1,0])\n",
    "xticks([]), yticks([])\n",
    "text(0.5,0.5, 'Axes 4',ha='center',va='center',size=24,alpha=.5)\n",
    "\n",
    "axes_5 = subplot(G[-1,-2])\n",
    "xticks([]), yticks([])\n",
    "text(0.5,0.5, 'Axes 5',ha='center',va='center',size=24,alpha=.5)\n",
    "\n",
    "show()"
   ]
  },
  {
   "cell_type": "markdown",
   "metadata": {},
   "source": [
    "## axes 对象"
   ]
  },
  {
   "cell_type": "markdown",
   "metadata": {},
   "source": [
    "`subplot` 返回的是 `Axes` 对象，但是 `Axes` 对象相对于 `subplot` 返回的对象来说要更自由一点。`Axes` 对象可以放置在图像中的任意位置："
   ]
  },
  {
   "cell_type": "code",
   "execution_count": 3,
   "metadata": {
    "collapsed": false
   },
   "outputs": [
    {
     "data": {
      "image/png": "[encoded data removed]",
      "text/plain": [
       "<matplotlib.figure.Figure at 0xa00b0b8>"
      ]
     },
     "metadata": {},
     "output_type": "display_data"
    }
   ],
   "source": [
    "axes([0.1,0.1,.8,.8])\n",
    "xticks([]), yticks([])\n",
    "text(0.6,0.6, 'axes([0.1,0.1,.8,.8])',ha='center',va='center',size=20,alpha=.5)\n",
    "\n",
    "axes([0.2,0.2,.3,.3])\n",
    "xticks([]), yticks([])\n",
    "text(0.5,0.5, 'axes([0.2,0.2,.3,.3])',ha='center',va='center',size=16,alpha=.5)\n",
    "\n",
    "show()"
   ]
  },
  {
   "cell_type": "code",
   "execution_count": 4,
   "metadata": {
    "collapsed": false
   },
   "outputs": [
    {
     "data": {
      "image/png": "[encoded data removed]",
      "text/plain": [
       "<matplotlib.figure.Figure at 0xa6ff128>"
      ]
     },
     "metadata": {},
     "output_type": "display_data"
    }
   ],
   "source": [
    "axes([0.1,0.1,.5,.5])\n",
    "xticks([]), yticks([])\n",
    "text(0.1,0.1, 'axes([0.1,0.1,.8,.8])',ha='left',va='center',size=16,alpha=.5)\n",
    "\n",
    "axes([0.2,0.2,.5,.5])\n",
    "xticks([]), yticks([])\n",
    "text(0.1,0.1, 'axes([0.2,0.2,.5,.5])',ha='left',va='center',size=16,alpha=.5)\n",
    "\n",
    "axes([0.3,0.3,.5,.5])\n",
    "xticks([]), yticks([])\n",
    "text(0.1,0.1, 'axes([0.3,0.3,.5,.5])',ha='left',va='center',size=16,alpha=.5)\n",
    "\n",
    "axes([0.4,0.4,.5,.5])\n",
    "xticks([]), yticks([])\n",
    "text(0.1,0.1, 'axes([0.4,0.4,.5,.5])',ha='left',va='center',size=16,alpha=.5)\n",
    "\n",
    "show()"
   ]
  },
  {
   "cell_type": "markdown",
   "metadata": {},
   "source": [
    "后面的 `Axes` 对象会覆盖前面的内容。"
   ]
  },
  {
   "cell_type": "markdown",
   "metadata": {},
   "source": [
    "## ticks 对象"
   ]
  },
  {
   "cell_type": "markdown",
   "metadata": {},
   "source": [
    "ticks 用来注释轴的内容，我们可以通过控制它的属性来决定在哪里显示轴、轴的内容是什么等等。"
   ]
  }
 ],
 "metadata": {
  "kernelspec": {
   "display_name": "Python 2",
   "language": "python",
   "name": "python2"
  },
  "language_info": {
   "codemirror_mode": {
    "name": "ipython",
    "version": 2
   },
   "file_extension": ".py",
   "mimetype": "text/x-python",
   "name": "python",
   "nbconvert_exporter": "python",
   "pygments_lexer": "ipython2",
   "version": "2.7.10"
  }
 },
 "nbformat": 4,
 "nbformat_minor": 0
}
