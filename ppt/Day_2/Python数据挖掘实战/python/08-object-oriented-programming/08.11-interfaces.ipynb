{
 "cells": [
  {
   "cell_type": "markdown",
   "metadata": {},
   "source": [
    "# 接口"
   ]
  },
  {
   "cell_type": "markdown",
   "metadata": {},
   "source": [
    "在 `Python` 中，鸭子类型（`duck typing`）是一种动态类型的风格。所谓鸭子类型，来自于 `James Whitcomb Riley` 的“鸭子测试”：\n",
    "\n",
    "> 当看到一只鸟走起来像鸭子、游泳起来像鸭子、叫起来也像鸭子，那么这只鸟就可以被称为鸭子。\n",
    "\n",
    "假设我们需要定义一个函数，这个函数使用一个类型为鸭子的参数，并调用它的走和叫方法。\n",
    "\n",
    "在鸭子类型的语言中，这样的函数可以接受任何类型的对象，只要这个对象实现了走和叫的方法，否则就引发一个运行时错误。换句话说，任何拥有走和叫方法的参数都是合法的。\n",
    "\n",
    "先看一个例子，父类："
   ]
  },
  {
   "cell_type": "code",
   "execution_count": 1,
   "metadata": {
    "collapsed": true
   },
   "outputs": [],
   "source": [
    "class Leaf(object):\n",
    "    def __init__(self, color=\"green\"):\n",
    "        self.color = color\n",
    "    def fall(self):\n",
    "        print \"Splat!\""
   ]
  },
  {
   "cell_type": "markdown",
   "metadata": {},
   "source": [
    "子类："
   ]
  },
  {
   "cell_type": "code",
   "execution_count": 2,
   "metadata": {
    "collapsed": true
   },
   "outputs": [],
   "source": [
    "class MapleLeaf(Leaf):\n",
    "    def fall(self):\n",
    "        self.color = 'brown'\n",
    "        super(MapleLeaf, self).fall()"
   ]
  },
  {
   "cell_type": "markdown",
   "metadata": {},
   "source": [
    "新的类："
   ]
  },
  {
   "cell_type": "code",
   "execution_count": 3,
   "metadata": {
    "collapsed": true
   },
   "outputs": [],
   "source": [
    "class Acorn(object):\n",
    "    def fall(self):\n",
    "        print \"Plunk!\""
   ]
  },
  {
   "cell_type": "markdown",
   "metadata": {},
   "source": [
    "这三个类都实现了 `fall()` 方法，因此可以这样使用："
   ]
  },
  {
   "cell_type": "code",
   "execution_count": 4,
   "metadata": {
    "collapsed": false
   },
   "outputs": [
    {
     "name": "stdout",
     "output_type": "stream",
     "text": [
      "Splat!\n",
      "Splat!\n",
      "Plunk!\n"
     ]
    }
   ],
   "source": [
    "objects = [Leaf(), MapleLeaf(), Acorn()]\n",
    "\n",
    "for obj in objects:\n",
    "    obj.fall()"
   ]
  },
  {
   "cell_type": "markdown",
   "metadata": {},
   "source": [
    "这里 `fall()` 方法就一种鸭子类型的体现。"
   ]
  },
  {
   "cell_type": "markdown",
   "metadata": {},
   "source": [
    "不仅方法可以用鸭子类型，属性也可以："
   ]
  },
  {
   "cell_type": "code",
   "execution_count": 5,
   "metadata": {
    "collapsed": true
   },
   "outputs": [],
   "source": [
    "import numpy as np\n",
    "from scipy.ndimage.measurements import label\n",
    "\n",
    "class Forest(object):\n",
    "    \"\"\" Forest can grow trees which eventually die.\"\"\"\n",
    "    def __init__(self, size=(150,150), p_sapling=0.0025):\n",
    "        self.size = size\n",
    "        self.trees = np.zeros(self.size, dtype=bool)\n",
    "        self.p_sapling = p_sapling\n",
    "        \n",
    "    def __repr__(self):\n",
    "        my_repr = \"{}(size={})\".format(self.__class__.__name__, self.size)\n",
    "        return my_repr\n",
    "    \n",
    "    def __str__(self):\n",
    "        return self.__class__.__name__\n",
    "    \n",
    "    @property\n",
    "    def num_cells(self):\n",
    "        \"\"\"Number of cells available for growing trees\"\"\"\n",
    "        return np.prod(self.size)\n",
    "    \n",
    "    @property\n",
    "    def losses(self):\n",
    "        return np.zeros(self.size)\n",
    "    \n",
    "    @property\n",
    "    def tree_fraction(self):\n",
    "        \"\"\"\n",
    "        Fraction of trees\n",
    "        \"\"\"\n",
    "        num_trees = self.trees.sum()\n",
    "        return float(num_trees) / self.num_cells\n",
    "    \n",
    "    def _rand_bool(self, p):\n",
    "        \"\"\"\n",
    "        Random boolean distributed according to p, less than p will be True\n",
    "        \"\"\"\n",
    "        return np.random.uniform(size=self.trees.shape) < p\n",
    "    \n",
    "    def grow_trees(self):\n",
    "        \"\"\"\n",
    "        Growing trees.\n",
    "        \"\"\"\n",
    "        growth_sites = self._rand_bool(self.p_sapling)\n",
    "        self.trees[growth_sites] = True    \n",
    "        \n",
    "    def advance_one_step(self):\n",
    "        \"\"\"\n",
    "        Advance one step\n",
    "        \"\"\"\n",
    "        self.grow_trees()\n",
    "\n",
    "class BurnableForest(Forest):\n",
    "    \"\"\"\n",
    "    Burnable forest support fires\n",
    "    \"\"\"    \n",
    "    def __init__(self, p_lightning=5.0e-6, **kwargs):\n",
    "        super(BurnableForest, self).__init__(**kwargs)\n",
    "        self.p_lightning = p_lightning        \n",
    "        self.fires = np.zeros((self.size), dtype=bool)\n",
    "    \n",
    "    def advance_one_step(self):\n",
    "        \"\"\"\n",
    "        Advance one step\n",
    "        \"\"\"\n",
    "        super(BurnableForest, self).advance_one_step()\n",
    "        self.start_fires()\n",
    "        self.burn_trees()\n",
    "    \n",
    "    @property\n",
    "    def losses(self):\n",
    "        return self.fires\n",
    "    \n",
    "    @property\n",
    "    def fire_fraction(self):\n",
    "        \"\"\"\n",
    "        Fraction of fires\n",
    "        \"\"\"\n",
    "        num_fires = self.fires.sum()\n",
    "        return float(num_fires) / self.num_cells\n",
    "    \n",
    "    def start_fires(self):\n",
    "        \"\"\"\n",
    "        Start of fire.\n",
    "        \"\"\"\n",
    "        lightning_strikes = (self._rand_bool(self.p_lightning) & \n",
    "            self.trees)\n",
    "        self.fires[lightning_strikes] = True\n",
    "    \n",
    "    def burn_trees(self):    \n",
    "        pass\n",
    "    \n",
    "class SlowBurnForest(BurnableForest):\n",
    "    def burn_trees(self):\n",
    "        \"\"\"\n",
    "        Burn trees.\n",
    "        \"\"\"\n",
    "        fires = np.zeros((self.size[0] + 2, self.size[1] + 2), dtype=bool)\n",
    "        fires[1:-1, 1:-1] = self.fires\n",
    "        north = fires[:-2, 1:-1]\n",
    "        south = fires[2:, 1:-1]\n",
    "        east = fires[1:-1, :-2]\n",
    "        west = fires[1:-1, 2:]\n",
    "        new_fires = (north | south | east | west) & self.trees\n",
    "        self.trees[self.fires] = False\n",
    "        self.fires = new_fires\n",
    "\n",
    "class InstantBurnForest(BurnableForest):\n",
    "    def burn_trees(self):\n",
    "        # 起火点\n",
    "        strikes = self.fires\n",
    "        # 找到连通区域\n",
    "        groves, num_groves = label(self.trees)\n",
    "        fires = set(groves[strikes])\n",
    "        self.fires.fill(False)\n",
    "        # 将与着火点相连的区域都烧掉\n",
    "        for fire in fires:\n",
    "            self.fires[groves == fire] = True\n",
    "        self.trees[self.fires] = False\n",
    "        self.fires.fill(False)"
   ]
  },
  {
   "cell_type": "markdown",
   "metadata": {},
   "source": [
    "测试："
   ]
  },
  {
   "cell_type": "code",
   "execution_count": 6,
   "metadata": {
    "collapsed": false
   },
   "outputs": [],
   "source": [
    "forest = Forest()\n",
    "b_forest = BurnableForest()\n",
    "sb_forest = SlowBurnForest()\n",
    "ib_forest = InstantBurnForest()\n",
    "\n",
    "forests = [forest, b_forest, sb_forest, ib_forest]\n",
    "\n",
    "losses_history = []\n",
    "\n",
    "for i in xrange(1500):\n",
    "    for fst in forests:\n",
    "        fst.advance_one_step()\n",
    "    losses_history.append(tuple(fst.losses.sum() for fst in forests))"
   ]
  },
  {
   "cell_type": "markdown",
   "metadata": {},
   "source": [
    "显示结果："
   ]
  },
  {
   "cell_type": "code",
   "execution_count": 7,
   "metadata": {
    "collapsed": false
   },
   "outputs": [
    {
     "data": {
      "image/png": "[encoded data removed]",
      "text/plain": [
       "<matplotlib.figure.Figure at 0x16f66748>"
      ]
     },
     "metadata": {},
     "output_type": "display_data"
    }
   ],
   "source": [
    "import matplotlib.pyplot as plt\n",
    "%matplotlib inline\n",
    "\n",
    "plt.figure(figsize=(10,6))\n",
    "\n",
    "plt.plot(losses_history)\n",
    "plt.legend([f.__str__() for f in forests])\n",
    "\n",
    "plt.show()"
   ]
  }
 ],
 "metadata": {
  "kernelspec": {
   "display_name": "Python 2",
   "language": "python",
   "name": "python2"
  },
  "language_info": {
   "codemirror_mode": {
    "name": "ipython",
    "version": 2
   },
   "file_extension": ".py",
   "mimetype": "text/x-python",
   "name": "python",
   "nbconvert_exporter": "python",
   "pygments_lexer": "ipython2",
   "version": "2.7.10"
  }
 },
 "nbformat": 4,
 "nbformat_minor": 0
}
